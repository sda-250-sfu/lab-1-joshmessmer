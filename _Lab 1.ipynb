{
 "cells": [
  {
   "cell_type": "markdown",
   "metadata": {},
   "source": [
    "### My Hello World Notebook"
   ]
  },
  {
   "cell_type": "markdown",
   "metadata": {},
   "source": [
    "(\"Notebook basics\" print/markdown practice was deleted as instructed)"
   ]
  },
  {
   "cell_type": "markdown",
   "metadata": {},
   "source": [
    "#### A short introduction to Python"
   ]
  },
  {
   "cell_type": "code",
   "execution_count": 2,
   "metadata": {},
   "outputs": [
    {
     "name": "stdout",
     "output_type": "stream",
     "text": [
      "josh\n",
      "22\n",
      "name\n",
      "age\n"
     ]
    }
   ],
   "source": [
    "name = \"josh\"\n",
    "age = 22\n",
    "\n",
    "print(name)\n",
    "print(age)\n",
    "\n",
    "# comment about quotations/strings\n",
    "\n",
    "print(\"name\")\n",
    "print(\"age\")"
   ]
  },
  {
   "cell_type": "code",
   "execution_count": 4,
   "metadata": {},
   "outputs": [
    {
     "name": "stdout",
     "output_type": "stream",
     "text": [
      "abc\n",
      "test\n"
     ]
    }
   ],
   "source": [
    "test = \"abc\"\n",
    "# printing test should print \"abc\" w/o the quotation marks\n",
    "print(test)\n",
    "\n",
    "# printing \"test\" should print \"test\" w/o the quotation mark\n",
    "\n",
    "print(\"test\")"
   ]
  },
  {
   "cell_type": "markdown",
   "metadata": {},
   "source": [
    "#### Math operators"
   ]
  },
  {
   "cell_type": "code",
   "execution_count": 6,
   "metadata": {},
   "outputs": [
    {
     "name": "stdout",
     "output_type": "stream",
     "text": [
      "3\n"
     ]
    }
   ],
   "source": [
    "# this will print: 3\n",
    "print(1+2)"
   ]
  },
  {
   "cell_type": "code",
   "execution_count": 7,
   "metadata": {},
   "outputs": [
    {
     "name": "stdout",
     "output_type": "stream",
     "text": [
      "12\n"
     ]
    }
   ],
   "source": [
    "# this will print: 12\n",
    "print(3*4)"
   ]
  },
  {
   "cell_type": "code",
   "execution_count": 9,
   "metadata": {},
   "outputs": [
    {
     "name": "stdout",
     "output_type": "stream",
     "text": [
      "5\n"
     ]
    }
   ],
   "source": [
    "x =10\n",
    "y = 5\n",
    "\n",
    "# this will print: 5\n",
    "print (x-y)"
   ]
  },
  {
   "cell_type": "code",
   "execution_count": 12,
   "metadata": {},
   "outputs": [
    {
     "name": "stdout",
     "output_type": "stream",
     "text": [
      "15\n",
      "number2\n",
      "5.0\n"
     ]
    }
   ],
   "source": [
    "number1 = 15\n",
    "number2 = 3\n",
    "result = number1 / number2\n",
    "\n",
    "# this will print: 15\n",
    "print(number1)\n",
    "\n",
    "# this will print: number2\n",
    "print(\"number2\")\n",
    "\n",
    "# this will print: 5\n",
    "print(result)"
   ]
  },
  {
   "cell_type": "code",
   "execution_count": 14,
   "metadata": {},
   "outputs": [
    {
     "name": "stdout",
     "output_type": "stream",
     "text": [
      "TaylorWilliams\n"
     ]
    }
   ],
   "source": [
    "firstName = \"Taylor\"\n",
    "lastName = \"Williams\"\n",
    "fullName = firstName + lastName\n",
    "\n",
    "# this will print: TaylorWilliams\n",
    "print(fullName)"
   ]
  },
  {
   "cell_type": "code",
   "execution_count": 15,
   "metadata": {},
   "outputs": [
    {
     "name": "stdout",
     "output_type": "stream",
     "text": [
      "Taylor Williams\n",
      "Taylor Williams\n"
     ]
    }
   ],
   "source": [
    "firstName = \"Taylor\"\n",
    "lastName = \"Williams\"\n",
    "fullName = firstName + \" \" + lastName\n",
    "\n",
    "print(fullName)\n",
    "print(firstName + \" \" + lastName)"
   ]
  },
  {
   "cell_type": "code",
   "execution_count": 24,
   "metadata": {},
   "outputs": [
    {
     "name": "stdout",
     "output_type": "stream",
     "text": [
      "Joshua Messmer\n",
      "Josh (he/him/his)\n",
      "My favourite number is 7.\n",
      "49\n",
      "63\n"
     ]
    }
   ],
   "source": [
    "firstName = \"Joshua\"\n",
    "lastName = \"Messmer\"\n",
    "preferredName = \"Josh\"\n",
    "preferredPronouns = \"he/him/his\"\n",
    "favouriteNumberString = \"7\"\n",
    "numberPhrase = \"My favourite number is\"\n",
    "\n",
    "print(firstName + \" \" + lastName)\n",
    "print(preferredName + \" \" + \"(\" + preferredPronouns + \")\")\n",
    "print(numberPhrase + \" \" + favouriteNumberString + \".\")\n",
    "\n",
    "favouriteNumber = 7\n",
    "\n",
    "print(favouriteNumber * favouriteNumber)\n",
    "print((favouriteNumber * 10) - favouriteNumber)"
   ]
  },
  {
   "cell_type": "markdown",
   "metadata": {},
   "source": [
    "## Minute paper #2"
   ]
  },
  {
   "cell_type": "code",
   "execution_count": 26,
   "metadata": {},
   "outputs": [
    {
     "name": "stdout",
     "output_type": "stream",
     "text": [
      "What are two ethical considerations when dealing with data?\n",
      "\n",
      "One ethical concern regarding data-usage is the degree to which someone has, or even can, consent to the usage of their data. While people do sign ToS agreements, they often fail to actually read them. Further, it is difficult to fully understand the ramifications of giving consent; can we expect everyone to grasp what new information can be learned about them when seemingly innocent data is combined?\n",
      "\n",
      "Another concern regards the data of a third-party. we might have collected consent from the 'speaker', but they may reveal information about others who did give consent. One solution is alter the names to obscure their identity. Alternatively, we could ommit/delete that information if we it is not relevant or necessary.\n"
     ]
    }
   ],
   "source": [
    "prompt = \"What are two ethical considerations when dealing with data?\"\n",
    "consideration1 = \"One ethical concern regarding data-usage is the degree to which someone has, or even can, consent to the usage of their data. While people do sign ToS agreements, they often fail to actually read them. Further, it is difficult to fully understand the ramifications of giving consent; can we expect everyone to grasp what new information can be learned about them when seemingly innocent data is combined?\"\n",
    "consideration2 = \"Another concern regards the data of a third-party. we might have collected consent from the 'speaker', but they may reveal information about others who did give consent. One solution is alter the names to obscure their identity. Alternatively, we could ommit/delete that information if we it is not relevant or necessary.\"\n",
    "\n",
    "print(prompt)\n",
    "print(\"\")\n",
    "print(consideration1)\n",
    "print(\"\")\n",
    "print(consideration2)"
   ]
  },
  {
   "cell_type": "code",
   "execution_count": null,
   "metadata": {},
   "outputs": [],
   "source": []
  }
 ],
 "metadata": {
  "kernelspec": {
   "display_name": "Python 3",
   "language": "python",
   "name": "python3"
  },
  "language_info": {
   "codemirror_mode": {
    "name": "ipython",
    "version": 3
   },
   "file_extension": ".py",
   "mimetype": "text/x-python",
   "name": "python",
   "nbconvert_exporter": "python",
   "pygments_lexer": "ipython3",
   "version": "3.8.5"
  }
 },
 "nbformat": 4,
 "nbformat_minor": 4
}
